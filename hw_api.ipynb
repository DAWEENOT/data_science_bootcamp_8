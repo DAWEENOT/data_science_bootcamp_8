{
  "nbformat": 4,
  "nbformat_minor": 0,
  "metadata": {
    "colab": {
      "provenance": [],
      "authorship_tag": "ABX9TyMi8PI+QHJzLAhwbFi4Mm5y",
      "include_colab_link": true
    },
    "kernelspec": {
      "name": "python3",
      "display_name": "Python 3"
    },
    "language_info": {
      "name": "python"
    }
  },
  "cells": [
    {
      "cell_type": "markdown",
      "metadata": {
        "id": "view-in-github",
        "colab_type": "text"
      },
      "source": [
        "<a href=\"https://colab.research.google.com/github/DAWEENOT/data_science_bootcamp_8/blob/main/hw_api.ipynb\" target=\"_parent\"><img src=\"https://colab.research.google.com/assets/colab-badge.svg\" alt=\"Open In Colab\"/></a>"
      ]
    },
    {
      "cell_type": "markdown",
      "source": [
        "# HW 04 - API Connect"
      ],
      "metadata": {
        "id": "WR0E7yemdiNe"
      }
    },
    {
      "cell_type": "code",
      "source": [
        "# import requests\n",
        "import requests\n",
        "\n",
        "# url = swapi (starwars)\n",
        "url =\"https://swapi.dev/api/species/1\"\n",
        "resp = requests.get(url)\n",
        "\n",
        "check = resp.status_code\n",
        "information = resp.json()\n",
        "\n",
        "# check API status\n",
        "    # True == 200\n",
        "def resp_stat():\n",
        "    set_stat = int(\"200\")\n",
        "    check = resp.status_code\n",
        "    while True:\n",
        "        if set_stat == check:\n",
        "            print(f\"Connect successful! | {check}\")\n",
        "            print(\"-------INFORMATION--------\")\n",
        "            print(f\"{information}\")\n",
        "        else:\n",
        "            print(\"Please, check your url\")\n",
        "        break\n",
        "\n",
        "resp_stat()"
      ],
      "metadata": {
        "colab": {
          "base_uri": "https://localhost:8080/"
        },
        "id": "BEsgmO-Afenr",
        "outputId": "34e45181-9556-4df6-8b63-35bd74513733"
      },
      "execution_count": 41,
      "outputs": [
        {
          "output_type": "stream",
          "name": "stdout",
          "text": [
            "Connect successful! | 200\n",
            "-------INFORMATION--------\n",
            "{'name': 'Human', 'classification': 'mammal', 'designation': 'sentient', 'average_height': '180', 'skin_colors': 'caucasian, black, asian, hispanic', 'hair_colors': 'blonde, brown, black, red', 'eye_colors': 'brown, blue, green, hazel, grey, amber', 'average_lifespan': '120', 'homeworld': 'https://swapi.dev/api/planets/9/', 'language': 'Galactic Basic', 'people': ['https://swapi.dev/api/people/66/', 'https://swapi.dev/api/people/67/', 'https://swapi.dev/api/people/68/', 'https://swapi.dev/api/people/74/'], 'films': ['https://swapi.dev/api/films/1/', 'https://swapi.dev/api/films/2/', 'https://swapi.dev/api/films/3/', 'https://swapi.dev/api/films/4/', 'https://swapi.dev/api/films/5/', 'https://swapi.dev/api/films/6/'], 'created': '2014-12-10T13:52:11.567000Z', 'edited': '2014-12-20T21:36:42.136000Z', 'url': 'https://swapi.dev/api/species/1/'}\n"
          ]
        }
      ]
    },
    {
      "cell_type": "code",
      "source": [
        "# import requests and time\n",
        "import requests\n",
        "import time\n",
        "\n",
        "specise = []\n",
        "\n",
        "for i in range(5):\n",
        "    url = f\"https://swapi.dev/api/species/{i + 1}\"\n",
        "    resp = requests.get(url)\n",
        "    if resp.status_code == 200:\n",
        "        json_data = resp.json()\n",
        "        specise.append(\n",
        "            (json_data[\"name\"],\n",
        "            json_data[\"classification\"],\n",
        "            json_data[\"designation\"],\n",
        "            json_data[\"average_height\"])\n",
        "        )\n",
        "\n",
        "    time.sleep(1)\n",
        "\n",
        "print(specise)"
      ],
      "metadata": {
        "colab": {
          "base_uri": "https://localhost:8080/"
        },
        "id": "50JKTiL6oMHg",
        "outputId": "58051004-006b-4ffc-860f-57466eb4d41a"
      },
      "execution_count": 44,
      "outputs": [
        {
          "output_type": "stream",
          "name": "stdout",
          "text": [
            "[('Human', 'mammal', 'sentient', '180'), ('Droid', 'artificial', 'sentient', 'n/a'), ('Wookie', 'mammal', 'sentient', '210'), ('Rodian', 'sentient', 'reptilian', '170'), ('Hutt', 'gastropod', 'sentient', '300')]\n"
          ]
        }
      ]
    }
  ]
}