{
  "cells": [
    {
      "cell_type": "markdown",
      "metadata": {
        "id": "view-in-github",
        "colab_type": "text"
      },
      "source": [
        "<a href=\"https://colab.research.google.com/github/DAWEENOT/data_science_bootcamp_8/blob/main/Python/Home_work/hw02_atm.ipynb\" target=\"_parent\"><img src=\"https://colab.research.google.com/assets/colab-badge.svg\" alt=\"Open In Colab\"/></a>"
      ]
    },
    {
      "cell_type": "markdown",
      "metadata": {
        "id": "M3WCE7i2QqUK"
      },
      "source": [
        " # HW 02 - class ATM at least 5 methods"
      ]
    },
    {
      "cell_type": "code",
      "execution_count": null,
      "metadata": {
        "id": "1tJfDrSMQuD1"
      },
      "outputs": [],
      "source": [
        "## HW 02 - class ATM at least 5 methods\n",
        "    # user: name, surname, bank_account, id, balance\n",
        "        # 5 method\n",
        "            # 1 deposit\n",
        "                ## amount\n",
        "            # 2 transfer\n",
        "                ## recipeient account no., amount\n",
        "            # 3 withdrawal\n",
        "                ## user_account_no., amount\n",
        "            # 4 pay_bill\n",
        "                ## invoice_no., bill_name, amount\n",
        "            # 5 OTP\n",
        "                ## user_phone, rd.OTP\n",
        "import random as rd\n",
        "\n",
        "# create class atm\n",
        "class atm:\n",
        "    def __init__(user, firstname, lastname, bank_account, id, user_phone, balance):\n",
        "        user.firstname = firstname\n",
        "        user.lastname = lastname\n",
        "        user.bank_account = bank_account\n",
        "        user.id = id\n",
        "        user.balance = balance\n",
        "\n",
        "# atm method\n",
        "\n",
        "    # [1] create deposit method\n",
        "    def deposit(user, amount):\n",
        "        user.balance += amount\n",
        "        print(f\"Deposit is successful. \\n Your balance is: $ {user.balance}\")\n",
        "\n",
        "    # [2] create transfer method\n",
        "    def transfer(user, recipient_account_number, amount):\n",
        "        if(amount > user.balance):\n",
        "            print(\"Insufficient balance.\")\n",
        "        else:\n",
        "            user.balance -= amount\n",
        "            print(f\"\"\"Transfer successful. \\n Recipient account no.: {recipient_account_number}\\n\n",
        "            Amount to transfer: $ {amount}\\n\n",
        "            Your Balance: $ {user.balance}\n",
        "            \"\"\")\n",
        "\n",
        "    # [3] create withdrawal\n",
        "    def withdrawal(user, amount):\n",
        "        if(amount > user.balance):\n",
        "            print(\"Insufficient balance\")\n",
        "        else:\n",
        "            user.balance -= amount\n",
        "            print(f\"You transacition is successful. \\n Account number: {user.bank_account}\\n Balance:$ {user.balance}\")\n",
        "\n",
        "    # [4] paybill\n",
        "    def pay(user, invoice, bill_name, amount):\n",
        "        if(amount > user.balance):\n",
        "            print(\"Insufficient balance\")\n",
        "        else:\n",
        "            user.balance -= amount\n",
        "            print(f\"Pay transaction is successful.\\n From: {user.lastname} {user.firstname}\\n Invoice number: {invoice}\\n To: {bill_name}\\n Amount: $ {amount}\")\n",
        "            print(f\"-----Your Balance------\")\n",
        "            print(f\"Balance:$ {user.balance}\")\n",
        "\n",
        "\n",
        "    # [5] OTP to check user.balance\n",
        "    def otp(user, user_phone):\n",
        "        set_otp = rd.randint(100000, 999999)\n",
        "        print(f\"OTP: {set_otp}\")\n",
        "        attempts = 0\n",
        "        max_attempts = 5\n",
        "        while attempts < max_attempts:\n",
        "            user_otp = int(input(\"Enter your OTP: \"))\n",
        "\n",
        "            #try:\n",
        "                #user_otp = int(user_otp)\n",
        "            #except ValueError:\n",
        "                #print(\"Please enter a numeric value for the OTP.\")\n",
        "            #continue\n",
        "\n",
        "            if user_otp == set_otp:\n",
        "                print(f\"Correct OTP.\")\n",
        "                print(f\"----Balance----\")\n",
        "                print(f\"Account number: {user.bank_account}\\n Name: {user.lastname} {user.firstname}\")\n",
        "                print(f\"Balance: $ {user.balance}\")\n",
        "                break\n",
        "\n",
        "            else:\n",
        "                print(f\"Please, check your OTP again.\\n You have: {max_attempts - attempts} attempts remaining.\")\n",
        "                print(f\"OTP: {set_otp}\")\n",
        "                attempts += 1\n",
        "\n",
        "        if attempts == max_attempts:\n",
        "            print(\"Too many attempts. Account locked.\")\n",
        "\n",
        "\n",
        "\n",
        "\n",
        "\n",
        "\n",
        "\n",
        "\n",
        "\n",
        "\n",
        "\n",
        "\n",
        "# create user account\n",
        "user1 = atm(\"Lord\", \"Jim\", \"110-1-0010-1\", \"1-100-3-0029-626\", \"0850842477\", 10)\n"
      ]
    },
    {
      "cell_type": "code",
      "execution_count": null,
      "metadata": {
        "colab": {
          "base_uri": "https://localhost:8080/"
        },
        "id": "TPbfbdulZh-W",
        "outputId": "159dc35c-45ce-44aa-a02a-8067fb29e9ba"
      },
      "outputs": [
        {
          "output_type": "stream",
          "name": "stdout",
          "text": [
            "Deposit is successful. \n",
            " Your balance is: $ 110\n"
          ]
        }
      ],
      "source": [
        "# deposit\n",
        "user1.deposit(100)"
      ]
    },
    {
      "cell_type": "code",
      "execution_count": null,
      "metadata": {
        "colab": {
          "base_uri": "https://localhost:8080/"
        },
        "id": "Jt2TGD0qdTf0",
        "outputId": "ec6151e3-0d2d-475e-f965-9e1b5c69ff8a"
      },
      "outputs": [
        {
          "output_type": "stream",
          "name": "stdout",
          "text": [
            "Transfer successful. \n",
            " Recipient account no.: 123456\n",
            "\n",
            "            Amount to transfer: $ 20\n",
            "\n",
            "            Your Balance: $ 90\n",
            "            \n"
          ]
        }
      ],
      "source": [
        "# transfer\n",
        "user1.transfer(123456, 20)"
      ]
    },
    {
      "cell_type": "code",
      "execution_count": null,
      "metadata": {
        "colab": {
          "base_uri": "https://localhost:8080/"
        },
        "id": "scdbn1p9dp-U",
        "outputId": "d0aec735-46b3-4ce2-b2a5-5888803a5cc3"
      },
      "outputs": [
        {
          "output_type": "stream",
          "name": "stdout",
          "text": [
            "You transacition is successful. \n",
            " Account number: 110-1-0010-1\n",
            " Balance:$ 80\n"
          ]
        }
      ],
      "source": [
        "# withdrawal\n",
        "user1.withdrawal(10)"
      ]
    },
    {
      "cell_type": "code",
      "execution_count": null,
      "metadata": {
        "colab": {
          "base_uri": "https://localhost:8080/"
        },
        "id": "NtP4FpbZOsoq",
        "outputId": "1a290068-5c4d-4650-ddb9-76f00486a594"
      },
      "outputs": [
        {
          "output_type": "stream",
          "name": "stdout",
          "text": [
            "Pay transaction is successful.\n",
            " From: Jim Lord\n",
            " Invoice number: 12345\n",
            " To: lazada\n",
            " Amount: $ 20\n",
            "-----Your Balance------\n",
            "Balance:$ 60\n"
          ]
        }
      ],
      "source": [
        "# paybill\n",
        "user1.pay(12345,\"lazada\", 20)"
      ]
    },
    {
      "cell_type": "code",
      "execution_count": null,
      "metadata": {
        "colab": {
          "base_uri": "https://localhost:8080/"
        },
        "id": "PDtfVC66VPO7",
        "outputId": "52130980-a83d-4d8f-a0e7-9f97655c61a5"
      },
      "outputs": [
        {
          "output_type": "stream",
          "name": "stdout",
          "text": [
            "OTP: 514983\n",
            "Enter your OTP: 213123\n",
            "Please, check your OTP again.\n",
            " You have: 5 attempts remaining.\n",
            "OTP: 514983\n",
            "Enter your OTP: 514983\n",
            "Correct OTP.\n",
            "----Balance----\n",
            "Account number: 110-1-0010-1\n",
            " Name: Jim Lord\n",
            "Balance: $ 10\n"
          ]
        }
      ],
      "source": [
        "# OTP\n",
        "user1.otp(\"0850842477\")"
      ]
    },
    {
      "cell_type": "code",
      "source": [],
      "metadata": {
        "id": "Oj-HMCaRaGmQ"
      },
      "execution_count": null,
      "outputs": []
    }
  ],
  "metadata": {
    "colab": {
      "provenance": [],
      "authorship_tag": "ABX9TyN8bXsNOfSArd9rz7HIo7w6",
      "include_colab_link": true
    },
    "kernelspec": {
      "display_name": "Python 3",
      "name": "python3"
    },
    "language_info": {
      "name": "python"
    }
  },
  "nbformat": 4,
  "nbformat_minor": 0
}